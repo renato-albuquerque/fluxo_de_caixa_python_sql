{
 "cells": [
  {
   "cell_type": "markdown",
   "id": "68f25def",
   "metadata": {},
   "source": [
    "Extração datasets. <br>\n",
    "Instalação bibliotecas python:          "
   ]
  },
  {
   "cell_type": "code",
   "execution_count": null,
   "id": "b3f31f56",
   "metadata": {},
   "outputs": [],
   "source": [
    "!pip install pandas\n",
    "!pip install numpy"
   ]
  },
  {
   "cell_type": "markdown",
   "id": "7828a88f",
   "metadata": {},
   "source": [
    "Importando as bibliotecas python:"
   ]
  },
  {
   "cell_type": "code",
   "execution_count": 2,
   "id": "31a92144",
   "metadata": {},
   "outputs": [],
   "source": [
    "import pandas as pd\n",
    "import numpy as np"
   ]
  }
 ],
 "metadata": {
  "kernelspec": {
   "display_name": ".venv",
   "language": "python",
   "name": "python3"
  },
  "language_info": {
   "codemirror_mode": {
    "name": "ipython",
    "version": 3
   },
   "file_extension": ".py",
   "mimetype": "text/x-python",
   "name": "python",
   "nbconvert_exporter": "python",
   "pygments_lexer": "ipython3",
   "version": "3.13.7"
  }
 },
 "nbformat": 4,
 "nbformat_minor": 5
}
